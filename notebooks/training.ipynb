{
 "cells": [
  {
   "cell_type": "markdown",
   "metadata": {},
   "source": [
    "## Iris Species Dataset"
   ]
  },
  {
   "cell_type": "markdown",
   "metadata": {},
   "source": [
    "\"\"\n",
    "- The data set contains 3 classes of 50 instances each, where each class refers to a type of iris plant.  One class is linearly separable from the other 2; the latter are NOT linearly separable from each other.\n",
    "- Predicted attribute: class of iris plant\n",
    "- Number of Instances: 150 (50 in each of three classes)\n",
    "- Number of features (attributes): 4 numeric, predictive attributes and the class\n",
    "- Attribute Information:\n",
    "   1. sepal length in cm\n",
    "   2. sepal width in cm\n",
    "   3. petal length in cm\n",
    "   4. petal width in cm\n",
    "   5. class: \n",
    "       - Iris Setosa\n",
    "       - Iris Versicolour\n",
    "       - Iris Virginica\n",
    "- Missing Attribute Values: None\n",
    "- Class Distribution: 33.3% for each of 3 classes.\n",
    "\n",
    "\"\" \n",
    "\n",
    "Fisher, R.A.. (1988). Iris. UCI Machine Learning Repository."
   ]
  },
  {
   "cell_type": "code",
   "execution_count": 73,
   "metadata": {},
   "outputs": [],
   "source": [
    "from sklearn.datasets import load_iris\n",
    "import wget\n",
    "import requests\n",
    "import os\n",
    "import numpy as np\n",
    "import pandas as pd\n",
    "import seaborn as sns\n",
    "import matplotlib.pyplot as plt\n",
    "from IPython import display\n",
    "from sklearn.preprocessing import LabelEncoder\n",
    "from sklearn.model_selection import train_test_split\n",
    "%matplotlib inline\n",
    "import pickle\n"
   ]
  },
  {
   "cell_type": "markdown",
   "metadata": {},
   "source": [
    "### Download dataset\n"
   ]
  },
  {
   "cell_type": "code",
   "execution_count": 74,
   "metadata": {},
   "outputs": [
    {
     "data": {
      "text/plain": [
       "'/home/saito/Documents/picpay/iris-classifier-challenge/notebooks'"
      ]
     },
     "execution_count": 74,
     "metadata": {},
     "output_type": "execute_result"
    }
   ],
   "source": [
    "os.getcwd()"
   ]
  },
  {
   "cell_type": "code",
   "execution_count": 75,
   "metadata": {},
   "outputs": [
    {
     "name": "stdout",
     "output_type": "stream",
     "text": [
      "\r",
      "  0% [                                 ]    0 / 4551\r",
      "100% [.................................] 4551 / 4551"
     ]
    }
   ],
   "source": [
    "def download_dataset():\n",
    "    # data_url = ''\n",
    "    # response = requests.get(url, stream=True)\n",
    "\n",
    "    ##With requests\n",
    "    #url = 'https://www.facebook.com/favicon.ico'\n",
    "    #r = requests.get(url, allow_redirects=True)\n",
    "    #open('facebook.ico', 'wb').write(r.content)\n",
    "\n",
    "    \n",
    "    root_path = os.getcwd().replace('notebooks', '')\n",
    "    url = \"https://archive.ics.uci.edu/ml/machine-learning-databases/iris/iris.data\"\n",
    "\n",
    "    wget.download(url, root_path+'/data/iris-data.csv')\n",
    "    \n",
    "    #iris = load_iris()\n",
    "    #dataset_path = '/'\n",
    "    #with open((dataset_path + folder_name), 'wb') as dataset:\n",
    "    #    dataset.write(response.content)\n",
    "        \n",
    "\n",
    "download_dataset()"
   ]
  },
  {
   "cell_type": "markdown",
   "metadata": {},
   "source": [
    "### Load dataset\n"
   ]
  },
  {
   "cell_type": "code",
   "execution_count": 76,
   "metadata": {},
   "outputs": [],
   "source": [
    "column_names = ['SepalLengthCm', 'SepalWidthCm', 'PetalLengthCm', 'PetalWidthCm', 'Species' ]\n",
    "data = pd.read_csv('../data/iris-data.csv', names=column_names, header=None)"
   ]
  },
  {
   "cell_type": "markdown",
   "metadata": {},
   "source": [
    "### Dataset Overview"
   ]
  },
  {
   "cell_type": "code",
   "execution_count": 77,
   "metadata": {},
   "outputs": [
    {
     "data": {
      "text/html": [
       "<div>\n",
       "<style scoped>\n",
       "    .dataframe tbody tr th:only-of-type {\n",
       "        vertical-align: middle;\n",
       "    }\n",
       "\n",
       "    .dataframe tbody tr th {\n",
       "        vertical-align: top;\n",
       "    }\n",
       "\n",
       "    .dataframe thead th {\n",
       "        text-align: right;\n",
       "    }\n",
       "</style>\n",
       "<table border=\"1\" class=\"dataframe\">\n",
       "  <thead>\n",
       "    <tr style=\"text-align: right;\">\n",
       "      <th></th>\n",
       "      <th>SepalLengthCm</th>\n",
       "      <th>SepalWidthCm</th>\n",
       "      <th>PetalLengthCm</th>\n",
       "      <th>PetalWidthCm</th>\n",
       "      <th>Species</th>\n",
       "    </tr>\n",
       "  </thead>\n",
       "  <tbody>\n",
       "    <tr>\n",
       "      <th>0</th>\n",
       "      <td>5.1</td>\n",
       "      <td>3.5</td>\n",
       "      <td>1.4</td>\n",
       "      <td>0.2</td>\n",
       "      <td>Iris-setosa</td>\n",
       "    </tr>\n",
       "    <tr>\n",
       "      <th>1</th>\n",
       "      <td>4.9</td>\n",
       "      <td>3.0</td>\n",
       "      <td>1.4</td>\n",
       "      <td>0.2</td>\n",
       "      <td>Iris-setosa</td>\n",
       "    </tr>\n",
       "    <tr>\n",
       "      <th>2</th>\n",
       "      <td>4.7</td>\n",
       "      <td>3.2</td>\n",
       "      <td>1.3</td>\n",
       "      <td>0.2</td>\n",
       "      <td>Iris-setosa</td>\n",
       "    </tr>\n",
       "    <tr>\n",
       "      <th>3</th>\n",
       "      <td>4.6</td>\n",
       "      <td>3.1</td>\n",
       "      <td>1.5</td>\n",
       "      <td>0.2</td>\n",
       "      <td>Iris-setosa</td>\n",
       "    </tr>\n",
       "    <tr>\n",
       "      <th>4</th>\n",
       "      <td>5.0</td>\n",
       "      <td>3.6</td>\n",
       "      <td>1.4</td>\n",
       "      <td>0.2</td>\n",
       "      <td>Iris-setosa</td>\n",
       "    </tr>\n",
       "  </tbody>\n",
       "</table>\n",
       "</div>"
      ],
      "text/plain": [
       "   SepalLengthCm  SepalWidthCm  PetalLengthCm  PetalWidthCm      Species\n",
       "0            5.1           3.5            1.4           0.2  Iris-setosa\n",
       "1            4.9           3.0            1.4           0.2  Iris-setosa\n",
       "2            4.7           3.2            1.3           0.2  Iris-setosa\n",
       "3            4.6           3.1            1.5           0.2  Iris-setosa\n",
       "4            5.0           3.6            1.4           0.2  Iris-setosa"
      ]
     },
     "execution_count": 77,
     "metadata": {},
     "output_type": "execute_result"
    }
   ],
   "source": [
    "data.head()"
   ]
  },
  {
   "cell_type": "code",
   "execution_count": 78,
   "metadata": {},
   "outputs": [
    {
     "name": "stdout",
     "output_type": "stream",
     "text": [
      "<class 'pandas.core.frame.DataFrame'>\n",
      "RangeIndex: 150 entries, 0 to 149\n",
      "Data columns (total 5 columns):\n",
      " #   Column         Non-Null Count  Dtype  \n",
      "---  ------         --------------  -----  \n",
      " 0   SepalLengthCm  150 non-null    float64\n",
      " 1   SepalWidthCm   150 non-null    float64\n",
      " 2   PetalLengthCm  150 non-null    float64\n",
      " 3   PetalWidthCm   150 non-null    float64\n",
      " 4   Species        150 non-null    object \n",
      "dtypes: float64(4), object(1)\n",
      "memory usage: 6.0+ KB\n"
     ]
    }
   ],
   "source": [
    "data.info()"
   ]
  },
  {
   "cell_type": "code",
   "execution_count": 79,
   "metadata": {},
   "outputs": [
    {
     "data": {
      "text/html": [
       "<div>\n",
       "<style scoped>\n",
       "    .dataframe tbody tr th:only-of-type {\n",
       "        vertical-align: middle;\n",
       "    }\n",
       "\n",
       "    .dataframe tbody tr th {\n",
       "        vertical-align: top;\n",
       "    }\n",
       "\n",
       "    .dataframe thead th {\n",
       "        text-align: right;\n",
       "    }\n",
       "</style>\n",
       "<table border=\"1\" class=\"dataframe\">\n",
       "  <thead>\n",
       "    <tr style=\"text-align: right;\">\n",
       "      <th></th>\n",
       "      <th>SepalLengthCm</th>\n",
       "      <th>SepalWidthCm</th>\n",
       "      <th>PetalLengthCm</th>\n",
       "      <th>PetalWidthCm</th>\n",
       "    </tr>\n",
       "  </thead>\n",
       "  <tbody>\n",
       "    <tr>\n",
       "      <th>count</th>\n",
       "      <td>150.000000</td>\n",
       "      <td>150.000000</td>\n",
       "      <td>150.000000</td>\n",
       "      <td>150.000000</td>\n",
       "    </tr>\n",
       "    <tr>\n",
       "      <th>mean</th>\n",
       "      <td>5.843333</td>\n",
       "      <td>3.054000</td>\n",
       "      <td>3.758667</td>\n",
       "      <td>1.198667</td>\n",
       "    </tr>\n",
       "    <tr>\n",
       "      <th>std</th>\n",
       "      <td>0.828066</td>\n",
       "      <td>0.433594</td>\n",
       "      <td>1.764420</td>\n",
       "      <td>0.763161</td>\n",
       "    </tr>\n",
       "    <tr>\n",
       "      <th>min</th>\n",
       "      <td>4.300000</td>\n",
       "      <td>2.000000</td>\n",
       "      <td>1.000000</td>\n",
       "      <td>0.100000</td>\n",
       "    </tr>\n",
       "    <tr>\n",
       "      <th>25%</th>\n",
       "      <td>5.100000</td>\n",
       "      <td>2.800000</td>\n",
       "      <td>1.600000</td>\n",
       "      <td>0.300000</td>\n",
       "    </tr>\n",
       "    <tr>\n",
       "      <th>50%</th>\n",
       "      <td>5.800000</td>\n",
       "      <td>3.000000</td>\n",
       "      <td>4.350000</td>\n",
       "      <td>1.300000</td>\n",
       "    </tr>\n",
       "    <tr>\n",
       "      <th>75%</th>\n",
       "      <td>6.400000</td>\n",
       "      <td>3.300000</td>\n",
       "      <td>5.100000</td>\n",
       "      <td>1.800000</td>\n",
       "    </tr>\n",
       "    <tr>\n",
       "      <th>max</th>\n",
       "      <td>7.900000</td>\n",
       "      <td>4.400000</td>\n",
       "      <td>6.900000</td>\n",
       "      <td>2.500000</td>\n",
       "    </tr>\n",
       "  </tbody>\n",
       "</table>\n",
       "</div>"
      ],
      "text/plain": [
       "       SepalLengthCm  SepalWidthCm  PetalLengthCm  PetalWidthCm\n",
       "count     150.000000    150.000000     150.000000    150.000000\n",
       "mean        5.843333      3.054000       3.758667      1.198667\n",
       "std         0.828066      0.433594       1.764420      0.763161\n",
       "min         4.300000      2.000000       1.000000      0.100000\n",
       "25%         5.100000      2.800000       1.600000      0.300000\n",
       "50%         5.800000      3.000000       4.350000      1.300000\n",
       "75%         6.400000      3.300000       5.100000      1.800000\n",
       "max         7.900000      4.400000       6.900000      2.500000"
      ]
     },
     "execution_count": 79,
     "metadata": {},
     "output_type": "execute_result"
    }
   ],
   "source": [
    "data.describe()"
   ]
  },
  {
   "cell_type": "code",
   "execution_count": 80,
   "metadata": {},
   "outputs": [
    {
     "data": {
      "text/html": [
       "<div>\n",
       "<style scoped>\n",
       "    .dataframe tbody tr th:only-of-type {\n",
       "        vertical-align: middle;\n",
       "    }\n",
       "\n",
       "    .dataframe tbody tr th {\n",
       "        vertical-align: top;\n",
       "    }\n",
       "\n",
       "    .dataframe thead th {\n",
       "        text-align: right;\n",
       "    }\n",
       "</style>\n",
       "<table border=\"1\" class=\"dataframe\">\n",
       "  <thead>\n",
       "    <tr style=\"text-align: right;\">\n",
       "      <th></th>\n",
       "      <th>SepalLengthCm</th>\n",
       "      <th>SepalWidthCm</th>\n",
       "      <th>PetalLengthCm</th>\n",
       "      <th>PetalWidthCm</th>\n",
       "      <th>Species</th>\n",
       "    </tr>\n",
       "  </thead>\n",
       "  <tbody>\n",
       "    <tr>\n",
       "      <th>count</th>\n",
       "      <td>150.000000</td>\n",
       "      <td>150.000000</td>\n",
       "      <td>150.000000</td>\n",
       "      <td>150.000000</td>\n",
       "      <td>150</td>\n",
       "    </tr>\n",
       "    <tr>\n",
       "      <th>unique</th>\n",
       "      <td>NaN</td>\n",
       "      <td>NaN</td>\n",
       "      <td>NaN</td>\n",
       "      <td>NaN</td>\n",
       "      <td>3</td>\n",
       "    </tr>\n",
       "    <tr>\n",
       "      <th>top</th>\n",
       "      <td>NaN</td>\n",
       "      <td>NaN</td>\n",
       "      <td>NaN</td>\n",
       "      <td>NaN</td>\n",
       "      <td>Iris-setosa</td>\n",
       "    </tr>\n",
       "    <tr>\n",
       "      <th>freq</th>\n",
       "      <td>NaN</td>\n",
       "      <td>NaN</td>\n",
       "      <td>NaN</td>\n",
       "      <td>NaN</td>\n",
       "      <td>50</td>\n",
       "    </tr>\n",
       "    <tr>\n",
       "      <th>mean</th>\n",
       "      <td>5.843333</td>\n",
       "      <td>3.054000</td>\n",
       "      <td>3.758667</td>\n",
       "      <td>1.198667</td>\n",
       "      <td>NaN</td>\n",
       "    </tr>\n",
       "    <tr>\n",
       "      <th>std</th>\n",
       "      <td>0.828066</td>\n",
       "      <td>0.433594</td>\n",
       "      <td>1.764420</td>\n",
       "      <td>0.763161</td>\n",
       "      <td>NaN</td>\n",
       "    </tr>\n",
       "    <tr>\n",
       "      <th>min</th>\n",
       "      <td>4.300000</td>\n",
       "      <td>2.000000</td>\n",
       "      <td>1.000000</td>\n",
       "      <td>0.100000</td>\n",
       "      <td>NaN</td>\n",
       "    </tr>\n",
       "    <tr>\n",
       "      <th>25%</th>\n",
       "      <td>5.100000</td>\n",
       "      <td>2.800000</td>\n",
       "      <td>1.600000</td>\n",
       "      <td>0.300000</td>\n",
       "      <td>NaN</td>\n",
       "    </tr>\n",
       "    <tr>\n",
       "      <th>50%</th>\n",
       "      <td>5.800000</td>\n",
       "      <td>3.000000</td>\n",
       "      <td>4.350000</td>\n",
       "      <td>1.300000</td>\n",
       "      <td>NaN</td>\n",
       "    </tr>\n",
       "    <tr>\n",
       "      <th>75%</th>\n",
       "      <td>6.400000</td>\n",
       "      <td>3.300000</td>\n",
       "      <td>5.100000</td>\n",
       "      <td>1.800000</td>\n",
       "      <td>NaN</td>\n",
       "    </tr>\n",
       "    <tr>\n",
       "      <th>max</th>\n",
       "      <td>7.900000</td>\n",
       "      <td>4.400000</td>\n",
       "      <td>6.900000</td>\n",
       "      <td>2.500000</td>\n",
       "      <td>NaN</td>\n",
       "    </tr>\n",
       "  </tbody>\n",
       "</table>\n",
       "</div>"
      ],
      "text/plain": [
       "        SepalLengthCm  SepalWidthCm  PetalLengthCm  PetalWidthCm      Species\n",
       "count      150.000000    150.000000     150.000000    150.000000          150\n",
       "unique            NaN           NaN            NaN           NaN            3\n",
       "top               NaN           NaN            NaN           NaN  Iris-setosa\n",
       "freq              NaN           NaN            NaN           NaN           50\n",
       "mean         5.843333      3.054000       3.758667      1.198667          NaN\n",
       "std          0.828066      0.433594       1.764420      0.763161          NaN\n",
       "min          4.300000      2.000000       1.000000      0.100000          NaN\n",
       "25%          5.100000      2.800000       1.600000      0.300000          NaN\n",
       "50%          5.800000      3.000000       4.350000      1.300000          NaN\n",
       "75%          6.400000      3.300000       5.100000      1.800000          NaN\n",
       "max          7.900000      4.400000       6.900000      2.500000          NaN"
      ]
     },
     "execution_count": 80,
     "metadata": {},
     "output_type": "execute_result"
    }
   ],
   "source": [
    "data.describe(include='all')"
   ]
  },
  {
   "cell_type": "markdown",
   "metadata": {},
   "source": [
    "## Data Preprocessing"
   ]
  },
  {
   "cell_type": "code",
   "execution_count": 81,
   "metadata": {},
   "outputs": [
    {
     "name": "stdout",
     "output_type": "stream",
     "text": [
      "data_x shape - (150, 4)\n",
      "data_x head -    SepalLengthCm  SepalWidthCm  PetalLengthCm  PetalWidthCm\n",
      "0            5.1           3.5            1.4           0.2\n",
      "1            4.9           3.0            1.4           0.2\n",
      "2            4.7           3.2            1.3           0.2\n",
      "3            4.6           3.1            1.5           0.2\n",
      "4            5.0           3.6            1.4           0.2\n"
     ]
    }
   ],
   "source": [
    "#Separate feature from label\n",
    "data_x = data.drop(['Species'], axis=1)\n",
    "\n",
    "print(f\"data_x shape - {data_x.shape}\")\n",
    "print(f\"data_x head - {data_x.head()}\")"
   ]
  },
  {
   "cell_type": "code",
   "execution_count": 82,
   "metadata": {},
   "outputs": [
    {
     "name": "stdout",
     "output_type": "stream",
     "text": [
      "data_y type - <class 'pandas.core.series.Series'>\n",
      "data_y shape - (150,)\n",
      "data_y head - 0    Iris-setosa\n",
      "1    Iris-setosa\n",
      "2    Iris-setosa\n",
      "3    Iris-setosa\n",
      "4    Iris-setosa\n",
      "Name: Species, dtype: object\n",
      "data_y head - 145    Iris-virginica\n",
      "146    Iris-virginica\n",
      "147    Iris-virginica\n",
      "148    Iris-virginica\n",
      "149    Iris-virginica\n",
      "Name: Species, dtype: object\n"
     ]
    }
   ],
   "source": [
    "data_y = data['Species']\n",
    "\n",
    "print(f\"data_y type - {type(data_y)}\")\n",
    "print(f\"data_y shape - {data_y.shape}\")\n",
    "print(f\"data_y head - {data_y.head()}\")\n",
    "print(f\"data_y head - {data_y.tail()}\")"
   ]
  },
  {
   "cell_type": "code",
   "execution_count": 83,
   "metadata": {},
   "outputs": [
    {
     "name": "stdout",
     "output_type": "stream",
     "text": [
      "data_y type - <class 'numpy.ndarray'>\n",
      "data_y head - [0 0 0 0 0 0 0 0 0 0]\n",
      "data_y tail - [2 2 2 2 2 2 2 2 2 2]\n",
      "data_y lenght - 150\n"
     ]
    }
   ],
   "source": [
    "#convert Labels to numerical\n",
    "label_encoder = LabelEncoder()\n",
    "data_y = label_encoder.fit_transform(data_y)\n",
    "\n",
    "\n",
    "print(f\"data_y type - {type(data_y)}\")\n",
    "print(f\"data_y head - {data_y[:10]}\")\n",
    "print(f\"data_y tail - {data_y[-10:]}\")\n",
    "print(f\"data_y lenght - {len(data_y)}\")"
   ]
  },
  {
   "cell_type": "code",
   "execution_count": 84,
   "metadata": {},
   "outputs": [
    {
     "name": "stdout",
     "output_type": "stream",
     "text": [
      "X_train type - <class 'pandas.core.frame.DataFrame'>\n",
      "X_train head -      SepalLengthCm  SepalWidthCm  PetalLengthCm  PetalWidthCm\n",
      "8              4.4           2.9            1.4           0.2\n",
      "126            6.2           2.8            4.8           1.8\n",
      "22             4.6           3.6            1.0           0.2\n",
      "44             5.1           3.8            1.9           0.4\n",
      "97             6.2           2.9            4.3           1.3\n",
      "X_train tail -      SepalLengthCm  SepalWidthCm  PetalLengthCm  PetalWidthCm\n",
      "9              4.9           3.1            1.5           0.1\n",
      "103            6.3           2.9            5.6           1.8\n",
      "67             5.8           2.7            4.1           1.0\n",
      "117            7.7           3.8            6.7           2.2\n",
      "47             4.6           3.2            1.4           0.2\n",
      "X_train shape - (127, 4)\n",
      "y_train type - <class 'numpy.ndarray'>\n",
      "y_train head - [0 2 0 0 1 1 0 2 1 0]\n",
      "y_train tail - [1 1 1 0 0 0 2 1 2 0]\n",
      "y_train len - 127\n"
     ]
    }
   ],
   "source": [
    "#split dataset into train, test dataset\n",
    "x_train,x_test,y_train,y_test=train_test_split(data_x,data_y,test_size=0.15,random_state=0)\n",
    "\n",
    "print(f\"X_train type - {type(x_train)}\")\n",
    "print(f\"X_train head - {x_train.head()}\")\n",
    "print(f\"X_train tail - {x_train.tail()}\")\n",
    "print(f\"X_train shape - {x_train.shape}\")\n",
    "\n",
    "print(f\"y_train type - {type(y_train)}\")\n",
    "print(f\"y_train head - {y_train[:10]}\")\n",
    "print(f\"y_train tail - {y_train[-10:]}\")\n",
    "print(f\"y_train len - {len(y_train)}\")"
   ]
  },
  {
   "cell_type": "markdown",
   "metadata": {},
   "source": [
    "## Models Experimentations"
   ]
  },
  {
   "cell_type": "markdown",
   "metadata": {},
   "source": [
    "Based on report from Kaggle Compation of Iris Species Dataset we can have a good startpoint for define some classification algorithm to try to achieve aprox. 90% of accuracy in test dataset."
   ]
  },
  {
   "attachments": {
    "image.png": {
     "image/png": "[encoded data removed]"
    }
   },
   "cell_type": "markdown",
   "metadata": {},
   "source": [
    "![image.png](attachment:image.png)"
   ]
  },
  {
   "cell_type": "code",
   "execution_count": 85,
   "metadata": {},
   "outputs": [
    {
     "data": {
      "image/png": "[encoded data removed]",
      "text/plain": [
       "<IPython.core.display.Image object>"
      ]
     },
     "execution_count": 85,
     "metadata": {},
     "output_type": "execute_result"
    }
   ],
   "source": [
    "display.Image(\"../assets/images/precision-benchmark.png\")"
   ]
  },
  {
   "cell_type": "code",
   "execution_count": 86,
   "metadata": {},
   "outputs": [
    {
     "data": {
      "image/png": "[encoded data removed]",
      "text/plain": [
       "<IPython.core.display.Image object>"
      ]
     },
     "execution_count": 86,
     "metadata": {},
     "output_type": "execute_result"
    }
   ],
   "source": [
    "display.Image(\"../assets/images/accuracy-benchmark.png\")"
   ]
  },
  {
   "cell_type": "markdown",
   "metadata": {},
   "source": [
    "So, we are going to start with 3 differents algorithms:\n",
    "\n",
    "- Logistic Regression\n",
    "- Support Vector Classification\n",
    "- Xgbboost Classification"
   ]
  },
  {
   "cell_type": "code",
   "execution_count": 87,
   "metadata": {},
   "outputs": [],
   "source": [
    "#Metrics\n",
    "from sklearn.metrics import classification_report\n",
    "from sklearn.metrics import confusion_matrix\n",
    "from sklearn.metrics import accuracy_score ,precision_score,recall_score,f1_score\n",
    "\n",
    "#Models\n",
    "from sklearn.linear_model import LogisticRegression\n",
    "from sklearn.neighbors import KNeighborsClassifier\n",
    "from sklearn.svm import SVC\n",
    "from sklearn.ensemble import RandomForestClassifier\n",
    "from xgboost import XGBClassifier\n",
    "from sklearn.naive_bayes import GaussianNB\n",
    "\n",
    "from sklearn.model_selection import cross_val_score"
   ]
  },
  {
   "cell_type": "markdown",
   "metadata": {},
   "source": [
    "### Define ALL models"
   ]
  },
  {
   "cell_type": "code",
   "execution_count": 88,
   "metadata": {},
   "outputs": [],
   "source": [
    "#LogisticRegression\n",
    "log_reg = LogisticRegression(max_iter=75,multi_class='multinomial')\n",
    "\n",
    "#SVM\n",
    "svm = SVC()\n",
    "\n",
    "#KNeighborsClassifier\n",
    "knn = KNeighborsClassifier(n_neighbors = 5)\n",
    "\n",
    "#RandomForestClassifier\n",
    "rand_forest = RandomForestClassifier(n_estimators=150)\n",
    "\n",
    "#XGBClassifier\n",
    "xgb = XGBClassifier(n_estimators=80,learning_rate=0.01)\n",
    "\n",
    "#GaussianNB\n",
    "gaussian = GaussianNB()\n"
   ]
  },
  {
   "cell_type": "code",
   "execution_count": 89,
   "metadata": {},
   "outputs": [
    {
     "name": "stdout",
     "output_type": "stream",
     "text": [
      "{'Logistic Regression': LogisticRegression(max_iter=75, multi_class='multinomial'), 'Support Vector Machine': SVC(), 'K Nearest Neighbor': KNeighborsClassifier(), 'Random Forest': RandomForestClassifier(n_estimators=150), 'Xg Boost': XGBClassifier(base_score=None, booster=None, callbacks=None,\n",
      "              colsample_bylevel=None, colsample_bynode=None,\n",
      "              colsample_bytree=None, early_stopping_rounds=None,\n",
      "              enable_categorical=False, eval_metric=None, gamma=None,\n",
      "              gpu_id=None, grow_policy=None, importance_type=None,\n",
      "              interaction_constraints=None, learning_rate=0.01, max_bin=None,\n",
      "              max_cat_to_onehot=None, max_delta_step=None, max_depth=None,\n",
      "              max_leaves=None, min_child_weight=None, missing=nan,\n",
      "              monotone_constraints=None, n_estimators=80, n_jobs=None,\n",
      "              num_parallel_tree=None, predictor=None, random_state=None,\n",
      "              reg_alpha=None, reg_lambda=None, ...), 'Gaussian Naive Bayes': GaussianNB()}\n"
     ]
    }
   ],
   "source": [
    "classifiers = {\n",
    "    'Logistic Regression':log_reg,\n",
    "    'Support Vector Machine':svm,\n",
    "    'K Nearest Neighbor': knn,\n",
    "    'Random Forest':rand_forest,\n",
    "    'Xg Boost':xgb,\n",
    "    'Gaussian Naive Bayes':gaussian,\n",
    "}\n",
    "print(classifiers)"
   ]
  },
  {
   "cell_type": "code",
   "execution_count": 90,
   "metadata": {},
   "outputs": [
    {
     "name": "stderr",
     "output_type": "stream",
     "text": [
      "/home/saito/Documents/picpay/iris-classifier-challenge/.venv/lib/python3.9/site-packages/sklearn/linear_model/_logistic.py:444: ConvergenceWarning: lbfgs failed to converge (status=1):\n",
      "STOP: TOTAL NO. of ITERATIONS REACHED LIMIT.\n",
      "\n",
      "Increase the number of iterations (max_iter) or scale the data as shown in:\n",
      "    https://scikit-learn.org/stable/modules/preprocessing.html\n",
      "Please also refer to the documentation for alternative solver options:\n",
      "    https://scikit-learn.org/stable/modules/linear_model.html#logistic-regression\n",
      "  n_iter_i = _check_optimize_result(\n"
     ]
    },
    {
     "name": "stdout",
     "output_type": "stream",
     "text": [
      "Logistic Regression ------->> accuracy_score = 100.0%\n",
      "Logistic Regression ------->> score = 96.8504%\n",
      "Logistic Regression ------->> precision = 100.0%\n",
      "Logistic Regression ------->> conf_matrix = \n",
      "[[ 7  0  0]\n",
      " [ 0 11  0]\n",
      " [ 0  0  5]]\n",
      "Logistic Regression ------->> recall = 100.0%\n",
      "Logistic Regression ------->> f1 score = 100.0%\n",
      "Support Vector Machine ------->> accuracy_score = 100.0%\n",
      "Support Vector Machine ------->> score = 96.063%\n",
      "Support Vector Machine ------->> precision = 100.0%\n",
      "Support Vector Machine ------->> conf_matrix = \n",
      "[[ 7  0  0]\n",
      " [ 0 11  0]\n",
      " [ 0  0  5]]\n",
      "Support Vector Machine ------->> recall = 100.0%\n",
      "Support Vector Machine ------->> f1 score = 100.0%\n",
      "K Nearest Neighbor ------->> accuracy_score = 95.6522%\n",
      "K Nearest Neighbor ------->> score = 95.2756%\n",
      "K Nearest Neighbor ------->> precision = 95.6522%\n",
      "K Nearest Neighbor ------->> conf_matrix = \n",
      "[[ 7  0  0]\n",
      " [ 0 10  1]\n",
      " [ 0  0  5]]\n",
      "K Nearest Neighbor ------->> recall = 95.6522%\n",
      "K Nearest Neighbor ------->> f1 score = 95.6522%\n",
      "Random Forest ------->> accuracy_score = 100.0%\n",
      "Random Forest ------->> score = 100.0%\n",
      "Random Forest ------->> precision = 100.0%\n",
      "Random Forest ------->> conf_matrix = \n",
      "[[ 7  0  0]\n",
      " [ 0 11  0]\n",
      " [ 0  0  5]]\n",
      "Random Forest ------->> recall = 100.0%\n",
      "Random Forest ------->> f1 score = 100.0%\n",
      "Xg Boost ------->> accuracy_score = 100.0%\n",
      "Xg Boost ------->> score = 96.8504%\n",
      "Xg Boost ------->> precision = 100.0%\n",
      "Xg Boost ------->> conf_matrix = \n",
      "[[ 7  0  0]\n",
      " [ 0 11  0]\n",
      " [ 0  0  5]]\n",
      "Xg Boost ------->> recall = 100.0%\n",
      "Xg Boost ------->> f1 score = 100.0%\n",
      "Gaussian Naive Bayes ------->> accuracy_score = 95.6522%\n",
      "Gaussian Naive Bayes ------->> score = 95.2756%\n",
      "Gaussian Naive Bayes ------->> precision = 95.6522%\n",
      "Gaussian Naive Bayes ------->> conf_matrix = \n",
      "[[ 7  0  0]\n",
      " [ 0 11  0]\n",
      " [ 0  1  4]]\n",
      "Gaussian Naive Bayes ------->> recall = 95.6522%\n",
      "Gaussian Naive Bayes ------->> f1 score = 95.6522%\n",
      "CPU times: user 1.8 s, sys: 4.97 ms, total: 1.81 s\n",
      "Wall time: 434 ms\n"
     ]
    }
   ],
   "source": [
    "%%time\n",
    "for clf in classifiers.keys(): \n",
    "    #Exacute train\n",
    "    classifiers[clf].fit(x_train,y_train)\n",
    "    \n",
    "    #Test on testing dataset\n",
    "    y_pred = classifiers[clf].predict(x_test)\n",
    "    \n",
    "    #Performance Metrics\n",
    "    acc_score = round(accuracy_score(y_test,y_pred)*100, 4)\n",
    "    score = round(classifiers[clf].score(x_train, y_train)*100, 4)\n",
    "    precision = round(precision_score(y_test, y_pred,average='micro')*100, 4)\n",
    "    conf_matrix = confusion_matrix(y_test, y_pred,)\n",
    "    recall =  round(recall_score(y_test, y_pred,average='micro')*100, 4)\n",
    "    f1 = round(f1_score(y_test,y_pred,average='micro')*100, 4)\n",
    "    \n",
    "    print(f\"{clf} ------->> accuracy_score = {acc_score}%\")\n",
    "    print(f\"{clf} ------->> score = {score}%\")\n",
    "    print(f\"{clf} ------->> precision = {precision}%\")\n",
    "    print(f\"{clf} ------->> conf_matrix = \")\n",
    "    print(f\"{conf_matrix}\")\n",
    "    print(f\"{clf} ------->> recall = {recall}%\")\n",
    "    print(f\"{clf} ------->> f1 score = {f1}%\")\n",
    "    \n",
    "    #Save trained model\n",
    "    models_dir = '../models/dev/'\n",
    "    model_name = clf.replace(' ', '') + '.pkl'\n",
    "    model_path = models_dir + model_name\n",
    "    with open(model_path, 'wb') as model_file:\n",
    "      pickle.dump(classifiers[clf], model_file)"
   ]
  },
  {
   "cell_type": "markdown",
   "metadata": {},
   "source": [
    "### Test Prediction on Trained Models\n"
   ]
  },
  {
   "cell_type": "code",
   "execution_count": 110,
   "metadata": {},
   "outputs": [
    {
     "name": "stdout",
     "output_type": "stream",
     "text": [
      "sample_test_input - > [[5.8 2.8 5.1 2.4]]\n",
      "sample_test_input type - > <class 'numpy.ndarray'>\n",
      "sample_test_input shape - > (1, 4)\n",
      "sample_test_label - > 2\n",
      "sample_test_label type - > <class 'numpy.int64'>\n",
      "model_path-> ../models/dev/LogisticRegression.pkl\n",
      "Logistic Regression ------->> output = [2]\n",
      "model_path-> ../models/dev/SupportVectorMachine.pkl\n",
      "Support Vector Machine ------->> output = [2]\n",
      "model_path-> ../models/dev/KNearestNeighbor.pkl\n",
      "K Nearest Neighbor ------->> output = [2]\n",
      "model_path-> ../models/dev/RandomForest.pkl\n",
      "Random Forest ------->> output = [2]\n",
      "model_path-> ../models/dev/XgBoost.pkl\n",
      "Xg Boost ------->> output = [2]\n",
      "model_path-> ../models/dev/GaussianNaiveBayes.pkl\n",
      "Gaussian Naive Bayes ------->> output = [2]\n",
      "CPU times: user 187 ms, sys: 0 ns, total: 187 ms\n",
      "Wall time: 63 ms\n"
     ]
    },
    {
     "name": "stderr",
     "output_type": "stream",
     "text": [
      "/home/saito/Documents/picpay/iris-classifier-challenge/.venv/lib/python3.9/site-packages/sklearn/base.py:450: UserWarning: X does not have valid feature names, but LogisticRegression was fitted with feature names\n",
      "  warnings.warn(\n",
      "/home/saito/Documents/picpay/iris-classifier-challenge/.venv/lib/python3.9/site-packages/sklearn/base.py:450: UserWarning: X does not have valid feature names, but SVC was fitted with feature names\n",
      "  warnings.warn(\n",
      "/home/saito/Documents/picpay/iris-classifier-challenge/.venv/lib/python3.9/site-packages/sklearn/base.py:450: UserWarning: X does not have valid feature names, but KNeighborsClassifier was fitted with feature names\n",
      "  warnings.warn(\n",
      "/home/saito/Documents/picpay/iris-classifier-challenge/.venv/lib/python3.9/site-packages/sklearn/base.py:450: UserWarning: X does not have valid feature names, but RandomForestClassifier was fitted with feature names\n",
      "  warnings.warn(\n",
      "/home/saito/Documents/picpay/iris-classifier-challenge/.venv/lib/python3.9/site-packages/sklearn/base.py:450: UserWarning: X does not have valid feature names, but GaussianNB was fitted with feature names\n",
      "  warnings.warn(\n"
     ]
    }
   ],
   "source": [
    "%%time\n",
    "\n",
    "#Load trained files from pickle\n",
    "\n",
    "#uso any test sample to predict\n",
    "\n",
    "models_dir = '../models/dev/'\n",
    "\n",
    "sample_test_input = x_test.iloc[0].values.reshape(1, -1)\n",
    "print(f\"sample_test_input - > {sample_test_input}\")\n",
    "print(f\"sample_test_input type - > {type(sample_test_input)}\")\n",
    "print(f\"sample_test_input shape - > {sample_test_input.shape}\")\n",
    "sample_test_label = y_test[0]\n",
    "print(f\"sample_test_label - > {sample_test_label}\")\n",
    "print(f\"sample_test_label type - > {type(sample_test_label)}\")\n",
    "\n",
    "#print(classifiers.keys())\n",
    "\n",
    "for clf in classifiers.keys(): \n",
    "    #Load trained model\n",
    "    model_name = clf.replace(' ', '') + '.pkl'\n",
    "    model_path = models_dir + model_name\n",
    "    print(f\"model_path-> {model_path}\")\n",
    "    with open(model_path, 'rb') as model_file:\n",
    "        loaded_model = pickle.load(model_file)\n",
    "        \n",
    "        #Try to predict\n",
    "        output = loaded_model.predict(sample_test_input)\n",
    "        print(f\"{clf} ------->> output = {output}\")\n",
    "    \n"
   ]
  },
  {
   "cell_type": "markdown",
   "metadata": {},
   "source": [
    "### Model Selection"
   ]
  },
  {
   "cell_type": "code",
   "execution_count": null,
   "metadata": {},
   "outputs": [],
   "source": []
  }
 ],
 "metadata": {
  "kernelspec": {
   "display_name": "Python 3 (ipykernel)",
   "language": "python",
   "name": "python3"
  },
  "language_info": {
   "codemirror_mode": {
    "name": "ipython",
    "version": 3
   },
   "file_extension": ".py",
   "mimetype": "text/x-python",
   "name": "python",
   "nbconvert_exporter": "python",
   "pygments_lexer": "ipython3",
   "version": "3.9.13"
  },
  "vscode": {
   "interpreter": {
    "hash": "767d51c1340bd893661ea55ea3124f6de3c7a262a8b4abca0554b478b1e2ff90"
   }
  }
 },
 "nbformat": 4,
 "nbformat_minor": 2
}
